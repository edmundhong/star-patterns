{
 "cells": [
  {
   "cell_type": "markdown",
   "metadata": {},
   "source": [
    "## Star Pattern"
   ]
  },
  {
   "cell_type": "markdown",
   "metadata": {},
   "source": [
    "n = number of rows to display\n",
    "\n",
    "i = often used to refer to the number of rows\n",
    "\n",
    "j = often used to refer to the number of columns"
   ]
  },
  {
   "cell_type": "markdown",
   "metadata": {},
   "source": [
    "### Square"
   ]
  },
  {
   "cell_type": "code",
   "execution_count": 188,
   "metadata": {},
   "outputs": [
    {
     "name": "stdout",
     "output_type": "stream",
     "text": [
      "* * * * * \n",
      "* * * * * \n",
      "* * * * * \n",
      "* * * * * \n",
      "* * * * * \n"
     ]
    }
   ],
   "source": [
    "def square(n):\n",
    "    for i in range(n):\n",
    "        for j in range(n):\n",
    "            print(\"*\", end = \" \")\n",
    "        print()\n",
    "\n",
    "square(5)"
   ]
  },
  {
   "cell_type": "markdown",
   "metadata": {},
   "source": [
    "### Increasing Triangle"
   ]
  },
  {
   "cell_type": "code",
   "execution_count": 189,
   "metadata": {},
   "outputs": [
    {
     "name": "stdout",
     "output_type": "stream",
     "text": [
      "* \n",
      "* * \n",
      "* * * \n",
      "* * * * \n",
      "* * * * * \n"
     ]
    }
   ],
   "source": [
    "def increasing_triangle(n):\n",
    "    for i in range(n):\n",
    "        for j in range(i+1):\n",
    "            print(\"*\", end = \" \")\n",
    "        print()\n",
    "\n",
    "increasing_triangle(5)"
   ]
  },
  {
   "cell_type": "markdown",
   "metadata": {},
   "source": [
    "### Decreasing Triangle"
   ]
  },
  {
   "cell_type": "code",
   "execution_count": 190,
   "metadata": {},
   "outputs": [
    {
     "name": "stdout",
     "output_type": "stream",
     "text": [
      "* * * * * \n",
      "* * * * \n",
      "* * * \n",
      "* * \n",
      "* \n"
     ]
    }
   ],
   "source": [
    "def decreasing_triangle(n):\n",
    "    for i in range(n):\n",
    "        for j in range(n-i):\n",
    "            print(\"*\", end = \" \")\n",
    "        print()\n",
    "\n",
    "decreasing_triangle(5)"
   ]
  },
  {
   "cell_type": "markdown",
   "metadata": {},
   "source": [
    "### Right Increasing Triangle"
   ]
  },
  {
   "cell_type": "code",
   "execution_count": 191,
   "metadata": {},
   "outputs": [
    {
     "name": "stdout",
     "output_type": "stream",
     "text": [
      "        * \n",
      "      * * \n",
      "    * * * \n",
      "  * * * * \n",
      "* * * * * \n"
     ]
    }
   ],
   "source": [
    "def right_increasing_triangle(n):\n",
    "    for i in range(n):\n",
    "        for j in range(n-i-1):\n",
    "            print(\" \", end = \" \")\n",
    "        for j in range(i+1):\n",
    "            print(\"*\", end = \" \")\n",
    "        print()\n",
    "\n",
    "right_increasing_triangle(5)"
   ]
  },
  {
   "cell_type": "markdown",
   "metadata": {},
   "source": [
    "### Right Decreasing Triangle"
   ]
  },
  {
   "cell_type": "code",
   "execution_count": 192,
   "metadata": {},
   "outputs": [
    {
     "name": "stdout",
     "output_type": "stream",
     "text": [
      "* * * * * \n",
      "  * * * * \n",
      "    * * * \n",
      "      * * \n",
      "        * \n"
     ]
    }
   ],
   "source": [
    "def right_decreasing_triangle(n):\n",
    "    for i in range(n):\n",
    "        for j in range(i):\n",
    "            print(\" \", end = \" \")\n",
    "        for j in range(n-i):\n",
    "            print(\"*\", end = \" \")\n",
    "        print()\n",
    "\n",
    "right_decreasing_triangle(5)"
   ]
  },
  {
   "cell_type": "markdown",
   "metadata": {},
   "source": [
    "### Left Pascal Triangle"
   ]
  },
  {
   "cell_type": "code",
   "execution_count": 193,
   "metadata": {},
   "outputs": [
    {
     "name": "stdout",
     "output_type": "stream",
     "text": [
      "* \n",
      "* * \n",
      "* * * \n",
      "* * \n",
      "* \n"
     ]
    }
   ],
   "source": [
    "def left_pascal_triangle(n):\n",
    "    n = int((n+1)/2)\n",
    "    for i in range(n):\n",
    "        for j in range(i+1):\n",
    "            print(\"*\", end = \" \")\n",
    "        print() \n",
    "    for i in range(n-1):\n",
    "        for j in range(n-i-1):\n",
    "            print(\"*\", end = \" \")\n",
    "        print()\n",
    "\n",
    "left_pascal_triangle(5)"
   ]
  },
  {
   "cell_type": "markdown",
   "metadata": {},
   "source": [
    "### Right Pascal Triangle"
   ]
  },
  {
   "cell_type": "code",
   "execution_count": 194,
   "metadata": {},
   "outputs": [
    {
     "name": "stdout",
     "output_type": "stream",
     "text": [
      "    * \n",
      "  * * \n",
      "* * * \n",
      "  * * \n",
      "    * \n"
     ]
    }
   ],
   "source": [
    "def right_pascal_triangle(n):\n",
    "    n = int((n+1)/2)\n",
    "    for i in range(n):\n",
    "        for j in range(n-i-1):\n",
    "            print(\" \", end = \" \")\n",
    "        for j in range(i+1):\n",
    "            print(\"*\", end = \" \")\n",
    "        print()\n",
    "    for i in range(n-1):\n",
    "        for j in range(i+1):\n",
    "            print(\" \", end = \" \")\n",
    "        for j in range(n-i-1):\n",
    "            print(\"*\", end = \" \")\n",
    "        print()\n",
    "\n",
    "right_pascal_triangle(5)        "
   ]
  },
  {
   "cell_type": "markdown",
   "metadata": {},
   "source": [
    "### Hill"
   ]
  },
  {
   "cell_type": "code",
   "execution_count": 195,
   "metadata": {},
   "outputs": [
    {
     "name": "stdout",
     "output_type": "stream",
     "text": [
      "          *           \n",
      "        * * *         \n",
      "      * * * * *       \n",
      "    * * * * * * *     \n",
      "  * * * * * * * * *   \n"
     ]
    }
   ],
   "source": [
    "def hill(n):\n",
    "    for i in range(n):\n",
    "        for j in range(n-i):\n",
    "            print(\" \", end = \" \")\n",
    "        for j in range(2*i+1):\n",
    "            print(\"*\", end = \" \")\n",
    "        for j in range(n-i):\n",
    "            print(\" \", end = \" \")\n",
    "        print()\n",
    "\n",
    "hill(5)"
   ]
  },
  {
   "cell_type": "markdown",
   "metadata": {},
   "source": [
    "### Reverse Hill"
   ]
  },
  {
   "cell_type": "code",
   "execution_count": 196,
   "metadata": {},
   "outputs": [
    {
     "name": "stdout",
     "output_type": "stream",
     "text": [
      "* * * * * * * * * \n",
      "  * * * * * * *   \n",
      "    * * * * *     \n",
      "      * * *       \n",
      "        *         \n"
     ]
    }
   ],
   "source": [
    "def reverse_hill(n):\n",
    "    for i in range(n):\n",
    "        for j in range(i):\n",
    "            print(\" \", end = \" \")\n",
    "        for j in range(2*(n-i)-1):\n",
    "            print(\"*\", end = \" \")\n",
    "        for j in range(i):\n",
    "            print(\" \", end = \" \")\n",
    "        print() \n",
    "\n",
    "reverse_hill(5)"
   ]
  },
  {
   "cell_type": "markdown",
   "metadata": {},
   "source": [
    "### Diamond"
   ]
  },
  {
   "cell_type": "code",
   "execution_count": 197,
   "metadata": {},
   "outputs": [
    {
     "name": "stdout",
     "output_type": "stream",
     "text": [
      "      *       \n",
      "    * * *     \n",
      "  * * * * *   \n",
      "    * * *   \n",
      "      *     \n"
     ]
    }
   ],
   "source": [
    "def diamond(n):\n",
    "    n = int((n+1)/2)\n",
    "    for i in range(n):\n",
    "        for j in range(n-i):\n",
    "            print(\" \", end = \" \")\n",
    "        for j in range(2*i+1):\n",
    "            print(\"*\", end = \" \")\n",
    "        for j in range(n-i):\n",
    "            print(\" \", end = \" \")\n",
    "        print()\n",
    "    for i in range(n-1):\n",
    "        for j in range(i+2):\n",
    "            print(\" \", end = \" \")\n",
    "        for j in range(2*(n-i)-3):\n",
    "            print(\"*\", end = \" \")\n",
    "        for j in range(i+1):\n",
    "            print(\" \", end = \" \")\n",
    "        print() \n",
    "\n",
    "diamond(5)"
   ]
  },
  {
   "cell_type": "markdown",
   "metadata": {},
   "source": [
    "### Butterfly"
   ]
  },
  {
   "cell_type": "code",
   "execution_count": 198,
   "metadata": {},
   "outputs": [
    {
     "name": "stdout",
     "output_type": "stream",
     "text": [
      "*       * \n",
      "* *   * * \n",
      "* * * * * \n",
      "* *   * * \n",
      "*       * \n"
     ]
    }
   ],
   "source": [
    "def butterfly(n):\n",
    "    n = int((n+1)/2)\n",
    "    for i in range(n-1):\n",
    "        for j in range(i+1):\n",
    "            print(\"*\", end = \" \")\n",
    "        for j in range(2*n-2*i-3):\n",
    "            print(\" \", end = \" \")\n",
    "        for j in range(i+1):\n",
    "            print(\"*\", end = \" \")\n",
    "        print()\n",
    "    for i in range(2*n-1):\n",
    "        print(\"*\", end = \" \")\n",
    "    print()\n",
    "    for i in range(n-1):\n",
    "        for j in range(n-i-1):\n",
    "            print(\"*\", end = \" \")\n",
    "        for j in range(2*i+1):\n",
    "            print(\" \", end = \" \")\n",
    "        for j in range(n-i-1):\n",
    "            print(\"*\", end = \" \")\n",
    "        print()\n",
    "\n",
    "butterfly(5)"
   ]
  },
  {
   "cell_type": "markdown",
   "metadata": {},
   "source": [
    "### Sandglass"
   ]
  },
  {
   "cell_type": "code",
   "execution_count": 199,
   "metadata": {},
   "outputs": [
    {
     "name": "stdout",
     "output_type": "stream",
     "text": [
      "* * * * * \n",
      "  * * *   \n",
      "    *     \n",
      "  * * *       \n",
      "* * * * *     \n"
     ]
    }
   ],
   "source": [
    "def sandglass(n):\n",
    "    n = int((n+1)/2)\n",
    "    for i in range(n):\n",
    "        for j in range(i):\n",
    "            print(\" \", end = \" \")\n",
    "        for j in range(2*(n-i)-1):\n",
    "            print(\"*\", end = \" \")\n",
    "        for j in range(i):\n",
    "            print(\" \", end = \" \")\n",
    "        print()\n",
    "    for i in range(n-1):\n",
    "        for j in range(n-i-2):\n",
    "            print(\" \", end = \" \")\n",
    "        for j in range(2*i+3):\n",
    "            print(\"*\", end = \" \")\n",
    "        for j in range(n-i):\n",
    "            print(\" \", end = \" \")\n",
    "        print() \n",
    "\n",
    "sandglass(5)        "
   ]
  },
  {
   "cell_type": "markdown",
   "metadata": {},
   "source": [
    "### Double Hill"
   ]
  },
  {
   "cell_type": "code",
   "execution_count": 200,
   "metadata": {},
   "outputs": [
    {
     "name": "stdout",
     "output_type": "stream",
     "text": [
      "        *               *       \n",
      "      * * *           * * *     \n",
      "    * * * * *       * * * * *   \n",
      "  * * * * * * *   * * * * * * * \n",
      "* * * * * * * * * * * * * * * * * "
     ]
    }
   ],
   "source": [
    "def double_hill(n):\n",
    "    for i in range(n-1):\n",
    "        for j in range(n-i-1):\n",
    "            print(\" \", end = \" \")\n",
    "        for j in range(2*i+1):\n",
    "            print(\"*\", end = \" \")\n",
    "        for j in range(n-i-1):\n",
    "            print(\" \", end = \" \")\n",
    "        for j in range(n-i-2):\n",
    "            print(\" \", end = \" \")\n",
    "        for j in range(2*i+1):\n",
    "            print(\"*\", end = \" \")\n",
    "        for j in range(n-i-2):\n",
    "            print(\" \", end = \" \")\n",
    "        print()\n",
    "    # last row\n",
    "    for j in range(n*4-3):\n",
    "        print(\"*\", end = \" \")\n",
    "\n",
    "double_hill(5)"
   ]
  }
 ],
 "metadata": {
  "kernelspec": {
   "display_name": "Python 3.9.13 ('tf')",
   "language": "python",
   "name": "python3"
  },
  "language_info": {
   "codemirror_mode": {
    "name": "ipython",
    "version": 3
   },
   "file_extension": ".py",
   "mimetype": "text/x-python",
   "name": "python",
   "nbconvert_exporter": "python",
   "pygments_lexer": "ipython3",
   "version": "3.9.13"
  },
  "orig_nbformat": 4,
  "vscode": {
   "interpreter": {
    "hash": "8fd89edb112bb13006f5198d76bc14738c98a39d91c420a4518908914765aede"
   }
  }
 },
 "nbformat": 4,
 "nbformat_minor": 2
}
